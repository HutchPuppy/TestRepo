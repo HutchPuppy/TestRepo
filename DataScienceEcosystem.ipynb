{
 "cells": [
  {
   "cell_type": "markdown",
   "id": "d34a7144-2996-4410-b041-0b7666c97901",
   "metadata": {},
   "source": [
    "# Data Science Tools and Ecosystem"
   ]
  },
  {
   "cell_type": "markdown",
   "id": "8743c65b-f81b-4e81-90c4-adc3819cb200",
   "metadata": {},
   "source": [
    "**Objectives:**\n",
    "* List popular languages for Data Science\n",
    "* List commonly used libraries by Data Scientists\n",
    "* Provide examples for evaluating arithmetic expression in Python"
   ]
  },
  {
   "cell_type": "markdown",
   "id": "2ffc0b4e-6e08-48d6-ba97-3b3f459ce9d6",
   "metadata": {},
   "source": [
    "#### In this notebook, Data Science Tools and Ecosystem are summarized. "
   ]
  },
  {
   "cell_type": "markdown",
   "id": "d2d378a3-f6b8-4358-89a1-f436516c56fa",
   "metadata": {},
   "source": [
    "##### Some of the popular languages that Data Scientists use are: "
   ]
  },
  {
   "cell_type": "markdown",
   "id": "ad84b66a-4e5a-4196-a494-1195c59014be",
   "metadata": {},
   "source": [
    "1. Python\n",
    "2. R\n",
    "3. SQL"
   ]
  },
  {
   "cell_type": "markdown",
   "id": "14cc7870-8721-49cb-9def-0d021ee94317",
   "metadata": {},
   "source": [
    "##### Some of the commonly used libraries used by Data Scientists include: "
   ]
  },
  {
   "cell_type": "markdown",
   "id": "034ef743-fa46-4516-97c4-192cffe71e7e",
   "metadata": {},
   "source": [
    "1. Pandas\n",
    "2. NumPy\n",
    "3. Plotly"
   ]
  },
  {
   "cell_type": "markdown",
   "id": "86ed2806-c2a1-4481-ac9c-add31afcd931",
   "metadata": {},
   "source": [
    "|Data Science Tools|\n",
    "|------------------|\n",
    "|Jupyter|\n",
    "|Github|\n",
    "|Anaconda|"
   ]
  },
  {
   "cell_type": "markdown",
   "id": "7d5b2e6b-811f-4771-8e38-169654400d4c",
   "metadata": {},
   "source": [
    "### Below are a few examples of evaluating arithmetic expression in Python."
   ]
  },
  {
   "cell_type": "code",
   "execution_count": 2,
   "id": "ae9a3b38-099c-4e51-921a-08e69eed79aa",
   "metadata": {},
   "outputs": [],
   "source": [
    "# This is a sample arithmetic expression to multiply then add integers"
   ]
  },
  {
   "cell_type": "code",
   "execution_count": 3,
   "id": "ee100843-08e1-4818-bb1e-e3e3af370d2d",
   "metadata": {},
   "outputs": [
    {
     "data": {
      "text/plain": [
       "17"
      ]
     },
     "execution_count": 3,
     "metadata": {},
     "output_type": "execute_result"
    }
   ],
   "source": [
    "(3*4)+5"
   ]
  },
  {
   "cell_type": "code",
   "execution_count": 4,
   "id": "c431e432-eac4-4817-b909-ed6356392bd2",
   "metadata": {},
   "outputs": [],
   "source": [
    "# This will convert 200 minutes to hours by dividing by 60"
   ]
  },
  {
   "cell_type": "code",
   "execution_count": 5,
   "id": "ee2e79d4-60f3-4f8c-b637-97f340a02844",
   "metadata": {},
   "outputs": [
    {
     "data": {
      "text/plain": [
       "3.3333333333333335"
      ]
     },
     "execution_count": 5,
     "metadata": {},
     "output_type": "execute_result"
    }
   ],
   "source": [
    "200/60"
   ]
  },
  {
   "cell_type": "markdown",
   "id": "4aa627cb-5cb7-446e-89a1-831cd14f7912",
   "metadata": {},
   "source": [
    "## Author\n",
    "Tessa Hutchinson"
   ]
  },
  {
   "cell_type": "code",
   "execution_count": null,
   "id": "8afa3a3a-a33c-4267-8d6f-f8d57de953b6",
   "metadata": {},
   "outputs": [],
   "source": []
  }
 ],
 "metadata": {
  "kernelspec": {
   "display_name": "anaconda-2024.02-py310",
   "language": "python",
   "name": "conda-env-anaconda-2024.02-py310-py"
  },
  "language_info": {
   "codemirror_mode": {
    "name": "ipython",
    "version": 3
   },
   "file_extension": ".py",
   "mimetype": "text/x-python",
   "name": "python",
   "nbconvert_exporter": "python",
   "pygments_lexer": "ipython3",
   "version": "3.10.14"
  }
 },
 "nbformat": 4,
 "nbformat_minor": 5
}
